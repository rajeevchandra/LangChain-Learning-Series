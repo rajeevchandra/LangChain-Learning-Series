{
  "cells": [
    {
      "cell_type": "markdown",
      "metadata": {},
      "source": [
        "# Day 02 — Chains Basics\n",
        "\n",
        "This notebook auto-routes to Ollama if `OLLAMA_BASE_URL` is set.\n"
      ]
    },
    {
      "cell_type": "markdown",
      "metadata": {},
      "source": [
        "## Configuration (`config.py`)"
      ]
    },
    {
      "cell_type": "code",
      "execution_count": 1,
      "metadata": {},
      "outputs": [],
      "source": [
        "from dotenv import load_dotenv\n",
        "import os\n",
        "\n",
        "load_dotenv()\n",
        "\n",
        "OPENAI_API_KEY = os.getenv(\"OPENAI_API_KEY\", \"\")\n",
        "OLLAMA_BASE_URL = os.getenv(\"OLLAMA_BASE_URL\", \"\")\n",
        "OPENAI_MODEL = os.getenv(\"OPENAI_MODEL\", \"gpt-4o-mini\")\n",
        "OLLAMA_MODEL = os.getenv(\"OLLAMA_MODEL\", \"qwen2.5:7b-instruct\")\n",
        "\n",
        "def get_openai_or_ollama_client():\n",
        "    \"\"\"Return (provider, client, model_name).\"\"\"\n",
        "    from openai import OpenAI\n",
        "    if OLLAMA_BASE_URL:\n",
        "        return \"ollama\", OpenAI(base_url=OLLAMA_BASE_URL, api_key=\"ollama\"), OLLAMA_MODEL\n",
        "    else:\n",
        "        return \"openai\", OpenAI(api_key=OPENAI_API_KEY), OPENAI_MODEL\n"
      ]
    },
    {
      "cell_type": "markdown",
      "metadata": {},
      "source": [
        "## Example code (`main.py`)"
      ]
    },
    {
      "cell_type": "code",
      "execution_count": 2,
      "metadata": {},
      "outputs": [
        {
          "name": "stdout",
          "output_type": "stream",
          "text": [
            "LangChain is an open-source tool that allows users to compose Large Language Models (LLMs) from scratch. It enables developers to build custom LLM applications by using the Chain model, which is a graph-based framework for representing and training language models.\n",
            "\n",
            "Here's a summary of LangChain:\n",
            "\n",
            "**Key features:**\n",
            "\n",
            "1. **Graph-based architecture**: LangChain uses a graph database to store and manage the knowledge of the LLM, allowing it to capture complex relationships between words, entities, and concepts.\n",
            "2. **Tokenization**: The tool provides a flexible tokenization mechanism that supports various text representations, such as words, phrases, or sentences.\n",
            "3. **Graph traversal**: Users can navigate through the graph database using query languages like Cypher (LLMDB) to select specific combinations of tokens.\n",
            "4. **Model creation**: LangChain allows developers to create custom models by combining different token types and relationships.\n",
            "\n",
            "**Benefits:**\n",
            "\n",
            "1. **Flexibility**: The Chain model enables users to build complex LLMs with multiple components, making it possible to achieve high-level results through simple composability.\n",
            "2. **Customizability**: Developers can tailor their language models to specific tasks or domains, using a wide range of token types and relationships.\n",
            "3. **Interoperability**: LangChain's architecture allows for seamless integration with other LLMs, enabling the creation of robust and customized systems.\n",
            "\n",
            "Overall, LangChain provides a powerful framework for building custom Large Language Models, opening up new possibilities for applications in NLP, natural language generation, and related fields.\n"
          ]
        }
      ],
      "source": [
        "from langchain_core.prompts import ChatPromptTemplate\n",
        "from langchain_openai import ChatOpenAI\n",
        "from config import OPENAI_API_KEY, OPENAI_MODEL, OLLAMA_BASE_URL, OLLAMA_MODEL\n",
        "\n",
        "def make_llm():\n",
        "    if OLLAMA_BASE_URL:\n",
        "        return ChatOpenAI(api_key=\"ollama\", base_url=OLLAMA_BASE_URL, model=OLLAMA_MODEL)\n",
        "    return ChatOpenAI(api_key=OPENAI_API_KEY, model=OPENAI_MODEL)\n",
        "\n",
        "def main():\n",
        "    tmpl = ChatPromptTemplate.from_messages([(\"system\", \"You are a helpful assistant.\"),\n",
        "                                             (\"human\", \"Summarize: {text}\")])\n",
        "    llm = make_llm()\n",
        "    chain = tmpl | llm\n",
        "    print(chain.invoke({\"text\": \"LangChain lets you compose LLM apps\"}).content)\n",
        "\n",
        "if __name__ == \"__main__\":\n",
        "    main()\n"
      ]
    }
  ],
  "metadata": {
    "kernelspec": {
      "display_name": "Python 3",
      "language": "python",
      "name": "python3"
    },
    "language_info": {
      "codemirror_mode": {
        "name": "ipython",
        "version": 3
      },
      "file_extension": ".py",
      "mimetype": "text/x-python",
      "name": "python",
      "nbconvert_exporter": "python",
      "pygments_lexer": "ipython3",
      "version": "3.11.9"
    }
  },
  "nbformat": 4,
  "nbformat_minor": 5
}
